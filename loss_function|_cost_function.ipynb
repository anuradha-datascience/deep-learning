{
  "nbformat": 4,
  "nbformat_minor": 0,
  "metadata": {
    "colab": {
      "provenance": [],
      "authorship_tag": "ABX9TyNruWa8bv4/prF42+Qdtlmk",
      "include_colab_link": true
    },
    "kernelspec": {
      "name": "python3",
      "display_name": "Python 3"
    },
    "language_info": {
      "name": "python"
    }
  },
  "cells": [
    {
      "cell_type": "markdown",
      "metadata": {
        "id": "view-in-github",
        "colab_type": "text"
      },
      "source": [
        "<a href=\"https://colab.research.google.com/github/anuradha-datascience/deep-learning/blob/main/loss_function%7C_cost_function.ipynb\" target=\"_parent\"><img src=\"https://colab.research.google.com/assets/colab-badge.svg\" alt=\"Open In Colab\"/></a>"
      ]
    },
    {
      "cell_type": "code",
      "execution_count": 16,
      "metadata": {
        "id": "nmkLuqOx1ftj"
      },
      "outputs": [],
      "source": [
        "import numpy as np\n",
        "y_predicted=np.array([1,1,0,0,1])\n",
        "y_true=np.array([0.3,0.7,1,0,0.5])"
      ]
    },
    {
      "cell_type": "code",
      "source": [
        "def mae(y_true,y_predicted):\n",
        "  total_error=0\n",
        "\n",
        "  for yt,yp in zip(y_true,y_predicted):\n",
        "    total_error+=abs(yt-yp)\n",
        "  print(total_error)\n",
        "  return total_error/len(y_true)\n",
        "\n",
        "print(mae(y_true,y_predicted))"
      ],
      "metadata": {
        "colab": {
          "base_uri": "https://localhost:8080/"
        },
        "id": "DsGG_KkZB6KX",
        "outputId": "1a962602-7936-4ac7-f0b4-1c7bc3e00388"
      },
      "execution_count": 21,
      "outputs": [
        {
          "output_type": "stream",
          "name": "stdout",
          "text": [
            "2.5\n",
            "0.5\n"
          ]
        }
      ]
    },
    {
      "cell_type": "code",
      "source": [
        "#same can be done with numpy\n",
        "np.mean(np.abs(y_predicted-y_true))"
      ],
      "metadata": {
        "colab": {
          "base_uri": "https://localhost:8080/"
        },
        "id": "RH0cbSttIP6M",
        "outputId": "d724ef9a-d13e-4109-fd39-8842c0e52b1a"
      },
      "execution_count": 22,
      "outputs": [
        {
          "output_type": "execute_result",
          "data": {
            "text/plain": [
              "0.5"
            ]
          },
          "metadata": {},
          "execution_count": 22
        }
      ]
    },
    {
      "cell_type": "code",
      "source": [],
      "metadata": {
        "id": "GPUejzMsau7K"
      },
      "execution_count": null,
      "outputs": []
    },
    {
      "cell_type": "markdown",
      "source": [
        "handling log for binary cross entropy -log loss\n",
        "binary cross entropy -log loss =-1/n∑ yi*log(y_pred) + (1-y_pred).log(1-y_pred)\n"
      ],
      "metadata": {
        "id": "53mjhBB9awF2"
      }
    },
    {
      "cell_type": "code",
      "source": [
        "#we can't have y_predicted as 0 or 1 , so we take a very small number called epsilon\n",
        "epsilon=1e-15"
      ],
      "metadata": {
        "id": "SftEL9BRafjY"
      },
      "execution_count": 24,
      "outputs": []
    },
    {
      "cell_type": "code",
      "source": [
        "y_predicted"
      ],
      "metadata": {
        "colab": {
          "base_uri": "https://localhost:8080/"
        },
        "id": "7Hrb-7Ayb0aL",
        "outputId": "0d67ca00-7f15-465c-b9ae-515c80628e06"
      },
      "execution_count": 23,
      "outputs": [
        {
          "output_type": "execute_result",
          "data": {
            "text/plain": [
              "array([1, 1, 0, 0, 1])"
            ]
          },
          "metadata": {},
          "execution_count": 23
        }
      ]
    },
    {
      "cell_type": "code",
      "source": [
        "y_predicted_new=[max(i,epsilon) for i in y_predicted]\n",
        "y_predicted_new"
      ],
      "metadata": {
        "colab": {
          "base_uri": "https://localhost:8080/"
        },
        "id": "7GaVA9cJb3_E",
        "outputId": "f659eaaa-1ef8-4bb0-e84f-5400bdf6a7ed"
      },
      "execution_count": 27,
      "outputs": [
        {
          "output_type": "execute_result",
          "data": {
            "text/plain": [
              "[1, 1, 1e-15, 1e-15, 1]"
            ]
          },
          "metadata": {},
          "execution_count": 27
        }
      ]
    },
    {
      "cell_type": "code",
      "source": [
        "y_predicted_new=[min(i,1-epsilon) for i in y_predicted]\n",
        "y_predicted_new"
      ],
      "metadata": {
        "colab": {
          "base_uri": "https://localhost:8080/"
        },
        "id": "3zmklFNacD75",
        "outputId": "c42bc6d7-5939-443b-dbe9-156f8d7c5f4f"
      },
      "execution_count": 28,
      "outputs": [
        {
          "output_type": "execute_result",
          "data": {
            "text/plain": [
              "[0.999999999999999, 0.999999999999999, 0, 0, 0.999999999999999]"
            ]
          },
          "metadata": {},
          "execution_count": 28
        }
      ]
    },
    {
      "cell_type": "code",
      "source": [
        "np.log(y_predicted_new)"
      ],
      "metadata": {
        "colab": {
          "base_uri": "https://localhost:8080/"
        },
        "id": "Q0KKq2VScvdN",
        "outputId": "11f4f95c-9f91-4a45-c7b0-d2a4caf12c26"
      },
      "execution_count": 29,
      "outputs": [
        {
          "output_type": "stream",
          "name": "stderr",
          "text": [
            "<ipython-input-29-662bbdce6843>:1: RuntimeWarning: divide by zero encountered in log\n",
            "  np.log(y_predicted_new)\n"
          ]
        },
        {
          "output_type": "execute_result",
          "data": {
            "text/plain": [
              "array([-9.99200722e-16, -9.99200722e-16,            -inf,            -inf,\n",
              "       -9.99200722e-16])"
            ]
          },
          "metadata": {},
          "execution_count": 29
        }
      ]
    },
    {
      "cell_type": "code",
      "source": [
        "#applying log loss\n",
        "def log_loss(y_true, y_predicted):\n",
        "    y_predicted_new = [max(i,epsilon) for i in y_predicted]\n",
        "    y_predicted_new = [min(i,1-epsilon) for i in y_predicted_new]\n",
        "    y_predicted_new = np.array(y_predicted_new)\n",
        "    return -np.mean(y_true*np.log(y_predicted_new)+(1-y_true)*np.log(1-y_predicted_new))"
      ],
      "metadata": {
        "id": "bbnJVb9oc9rc"
      },
      "execution_count": 33,
      "outputs": []
    },
    {
      "cell_type": "code",
      "source": [
        "log_loss(y_true, y_predicted)\n"
      ],
      "metadata": {
        "colab": {
          "base_uri": "https://localhost:8080/"
        },
        "id": "UCdR2qjVeTfZ",
        "outputId": "65a75725-3267-4c36-87f0-10738778b15c"
      },
      "execution_count": 34,
      "outputs": [
        {
          "output_type": "execute_result",
          "data": {
            "text/plain": [
              "17.2696280766844"
            ]
          },
          "metadata": {},
          "execution_count": 34
        }
      ]
    },
    {
      "cell_type": "code",
      "source": [
        "# implement mean squared error\n",
        "def mse(y_true,y_predicted):\n",
        "  total_error=0\n",
        "\n",
        "  for yt,yp in zip(y_true,y_predicted):\n",
        "    total_error+=pow((yt-yp),2)\n",
        "  print(total_error)\n",
        "  return total_error/len(y_true)\n",
        "\n",
        "print(mse(y_true,y_predicted))"
      ],
      "metadata": {
        "colab": {
          "base_uri": "https://localhost:8080/"
        },
        "id": "32jC23SRed1e",
        "outputId": "89fc26de-c89e-48a1-f783-f2b7862aca7e"
      },
      "execution_count": 35,
      "outputs": [
        {
          "output_type": "stream",
          "name": "stdout",
          "text": [
            "1.83\n",
            "0.366\n"
          ]
        }
      ]
    },
    {
      "cell_type": "code",
      "source": [
        "#same can be done with numpy\n",
        "np.mean(np.square(y_predicted-y_true))"
      ],
      "metadata": {
        "colab": {
          "base_uri": "https://localhost:8080/"
        },
        "id": "zTHN1rHjfAi1",
        "outputId": "fe83249e-206f-414b-bfb0-9c4f52248efe"
      },
      "execution_count": 36,
      "outputs": [
        {
          "output_type": "execute_result",
          "data": {
            "text/plain": [
              "0.366"
            ]
          },
          "metadata": {},
          "execution_count": 36
        }
      ]
    }
  ]
}