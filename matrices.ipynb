{
  "nbformat": 4,
  "nbformat_minor": 0,
  "metadata": {
    "colab": {
      "provenance": [],
      "authorship_tag": "ABX9TyNHbKmTDxbCfmofrEhdCm0/"
    },
    "kernelspec": {
      "name": "python3",
      "display_name": "Python 3"
    },
    "language_info": {
      "name": "python"
    }
  },
  "cells": [
    {
      "cell_type": "markdown",
      "source": [
        "[Math is Fun](https://www.mathsisfun.com/algebra/matrix-introduction.html)"
      ],
      "metadata": {
        "id": "cQ0Sa1Nmx6vg"
      }
    },
    {
      "cell_type": "code",
      "execution_count": 1,
      "metadata": {
        "id": "-ygJ8GYoxcyQ"
      },
      "outputs": [],
      "source": [
        "import numpy as np\n"
      ]
    },
    {
      "cell_type": "code",
      "source": [
        "revenue=np.array([[180,200,220],[24,36,40],[12,18,20]])\n",
        "expenses=np.array([[80,90,100],[10,16,20],[8,10,10]])"
      ],
      "metadata": {
        "id": "Ju6Ykc6Sx1Pf"
      },
      "execution_count": 4,
      "outputs": []
    },
    {
      "cell_type": "code",
      "source": [
        "revenue"
      ],
      "metadata": {
        "colab": {
          "base_uri": "https://localhost:8080/"
        },
        "id": "bDr2F2RYyljj",
        "outputId": "cb18db07-1b27-4ec7-ea56-6a6eb41daf84"
      },
      "execution_count": 5,
      "outputs": [
        {
          "output_type": "execute_result",
          "data": {
            "text/plain": [
              "array([[180, 200, 220],\n",
              "       [ 24,  36,  40],\n",
              "       [ 12,  18,  20]])"
            ]
          },
          "metadata": {},
          "execution_count": 5
        }
      ]
    },
    {
      "cell_type": "code",
      "source": [
        "profit=revenue-expenses\n",
        "profit"
      ],
      "metadata": {
        "colab": {
          "base_uri": "https://localhost:8080/"
        },
        "id": "bVlGKdUlyoD2",
        "outputId": "8b13651c-17b7-4809-d2f8-1dc14150a4b8"
      },
      "execution_count": 7,
      "outputs": [
        {
          "output_type": "execute_result",
          "data": {
            "text/plain": [
              "array([[100, 110, 120],\n",
              "       [ 14,  20,  20],\n",
              "       [  4,   8,  10]])"
            ]
          },
          "metadata": {},
          "execution_count": 7
        }
      ]
    },
    {
      "cell_type": "code",
      "source": [
        "price_per_unit=np.array([1000,400,1200])\n",
        "units=np.array([[30,40,50],[5,10,15],[2,5,7]])\n",
        "#dot product\n",
        "np.dot(price_per_unit,units)"
      ],
      "metadata": {
        "colab": {
          "base_uri": "https://localhost:8080/"
        },
        "id": "Z8ieZ1MWytnE",
        "outputId": "585bb8be-b8cd-4506-ab8c-1c48db914a3c"
      },
      "execution_count": 11,
      "outputs": [
        {
          "output_type": "execute_result",
          "data": {
            "text/plain": [
              "array([34400, 50000, 64400])"
            ]
          },
          "metadata": {},
          "execution_count": 11
        }
      ]
    },
    {
      "cell_type": "code",
      "source": [
        "# sample exercise"
      ],
      "metadata": {
        "id": "LVQ01XX-1VFN"
      },
      "execution_count": 12,
      "outputs": []
    }
  ]
}